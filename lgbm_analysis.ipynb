{
 "cells": [
  {
   "cell_type": "code",
   "execution_count": 34,
   "id": "462dd833",
   "metadata": {},
   "outputs": [],
   "source": [
    "import pandas as pd\n",
    "import lightgbm as lgb\n",
    "from sklearn.model_selection import KFold, train_test_split, cross_val_score\n",
    "from sklearn.compose import ColumnTransformer\n",
    "from sklearn.pipeline import Pipeline\n",
    "from sklearn.preprocessing import OneHotEncoder, PolynomialFeatures, StandardScaler\n",
    "from sklearn.metrics import root_mean_squared_error, r2_score\n",
    "import matplotlib.pyplot as plt\n",
    "import numpy as np\n",
    "\n",
    "df = pd.read_csv(\"./correlation-data/r22-24_processed.csv\")\n",
    "df[\"LapTime\"] = df[\"LapTime\"] - df[\"racemean\"]\n",
    "df = df.drop(columns=[\"racemean\"])\n",
    "df_dry = df[df[\"Rainfall\"] == 0.0]\n",
    "df_dry = df_dry.drop(columns=[\"Rainfall\"])\n",
    "X_dry = df_dry.drop(columns=['LapTime'])\n",
    "y_dry = df_dry['LapTime']\n",
    "df_wet = df[df[\"Rainfall\"] == 1.0]\n",
    "df_wet = df_wet.drop(columns=[\"Rainfall\"])\n",
    "X_wet = df_wet.drop(columns=['LapTime'])\n",
    "y_wet = df_wet['LapTime']\n",
    "df = df.drop(columns=[\"Rainfall\"])\n",
    "\n",
    "X = df.drop(columns=['LapTime'])\n",
    "y = df['LapTime']\n",
    "\n",
    "categorical_feats = ['Compound', \"Rainfall\"]\n",
    "categorical_feats = [c for c in X.columns if c.startswith(tuple(categorical_feats))]\n",
    "numerical_features = [c for c in X.columns if not c.startswith(tuple(categorical_feats))]\n",
    "\n",
    "#Remove Compound_INTERMEDIATE and Compound_WET from dry dataset\n",
    "X_dry = X_dry.drop(columns=[\"Compound_INTERMEDIATE\", \"Compound_WET\"])\n",
    "\n",
    "X_dry_train, X_dry_test, y_dry_train, y_dry_test = train_test_split(X_dry, y_dry, test_size=0.2, random_state=3465475)\n",
    "X_wet_train, X_wet_test, y_wet_train, y_wet_test = train_test_split(X_wet, y_wet, test_size=0.2, random_state=2351246)"
   ]
  },
  {
   "cell_type": "code",
   "execution_count": 13,
   "id": "b03355a0",
   "metadata": {},
   "outputs": [],
   "source": [
    "def make_pipeline(n_est,max_depth,random_state,num_leaves,learning_rate,min_data_in_leaf):\n",
    "    preprocessor = ColumnTransformer(transformers=[\n",
    "    (\"scaler\", StandardScaler(), numerical_features),\n",
    "    ],remainder='passthrough')\n",
    "\n",
    "    pipeline = Pipeline([\n",
    "        (\"preprocessor\", preprocessor),\n",
    "        (\"lgbm\", lgb.LGBMRegressor(\n",
    "            n_estimators=n_est,\n",
    "            random_state=random_state,\n",
    "            num_leaves=num_leaves,\n",
    "            max_depth=max_depth,\n",
    "            metric='rmse',\n",
    "            learning_rate=learning_rate,\n",
    "            min_data_in_leaf=min_data_in_leaf,\n",
    "        ))\n",
    "    ])\n",
    "    return pipeline\n"
   ]
  },
  {
   "cell_type": "code",
   "execution_count": 4,
   "id": "84e7c516",
   "metadata": {},
   "outputs": [
    {
     "name": "stderr",
     "output_type": "stream",
     "text": [
      "[I 2025-06-03 11:28:09,415] A new study created in memory with name: no-name-73033086-6729-4b67-96d6-8f2485b00a0c\n",
      "C:\\Users\\Çağan\\AppData\\Local\\Packages\\PythonSoftwareFoundation.Python.3.12_qbz5n2kfra8p0\\LocalCache\\local-packages\\Python312\\site-packages\\optuna\\distributions.py:699: UserWarning: The distribution is specified by [10, 500] and step=20, but the range is not divisible by `step`. It will be replaced by [10, 490].\n",
      "  warnings.warn(\n",
      "[I 2025-06-03 11:28:48,100] Trial 0 finished with value: 1.8201784461164743 and parameters: {'max_depth': 7, 'num_leaves': 112, 'min_data_in_leaf': 170, 'learning_rate': 0.013300156148264713}. Best is trial 0 with value: 1.8201784461164743.\n"
     ]
    },
    {
     "name": "stdout",
     "output_type": "stream",
     "text": [
      "Trial 0 - RMSE: 1.8202, Best Iteration: 5259\n"
     ]
    },
    {
     "name": "stderr",
     "output_type": "stream",
     "text": [
      "C:\\Users\\Çağan\\AppData\\Local\\Packages\\PythonSoftwareFoundation.Python.3.12_qbz5n2kfra8p0\\LocalCache\\local-packages\\Python312\\site-packages\\optuna\\distributions.py:699: UserWarning: The distribution is specified by [10, 500] and step=20, but the range is not divisible by `step`. It will be replaced by [10, 490].\n",
      "  warnings.warn(\n",
      "[I 2025-06-03 11:30:45,430] Trial 1 finished with value: 1.8032267251468017 and parameters: {'max_depth': 15, 'num_leaves': 12288, 'min_data_in_leaf': 170, 'learning_rate': 0.015973895176814235}. Best is trial 1 with value: 1.8032267251468017.\n"
     ]
    },
    {
     "name": "stdout",
     "output_type": "stream",
     "text": [
      "Trial 1 - RMSE: 1.8032, Best Iteration: 4674\n"
     ]
    },
    {
     "name": "stderr",
     "output_type": "stream",
     "text": [
      "C:\\Users\\Çağan\\AppData\\Local\\Packages\\PythonSoftwareFoundation.Python.3.12_qbz5n2kfra8p0\\LocalCache\\local-packages\\Python312\\site-packages\\optuna\\distributions.py:699: UserWarning: The distribution is specified by [10, 500] and step=20, but the range is not divisible by `step`. It will be replaced by [10, 490].\n",
      "  warnings.warn(\n",
      "[I 2025-06-03 11:31:25,198] Trial 2 finished with value: 1.8440184123835024 and parameters: {'max_depth': 5, 'num_leaves': 20, 'min_data_in_leaf': 210, 'learning_rate': 0.010480482817782258}. Best is trial 1 with value: 1.8032267251468017.\n"
     ]
    },
    {
     "name": "stdout",
     "output_type": "stream",
     "text": [
      "Trial 2 - RMSE: 1.8440, Best Iteration: 8226\n"
     ]
    },
    {
     "name": "stderr",
     "output_type": "stream",
     "text": [
      "C:\\Users\\Çağan\\AppData\\Local\\Packages\\PythonSoftwareFoundation.Python.3.12_qbz5n2kfra8p0\\LocalCache\\local-packages\\Python312\\site-packages\\optuna\\distributions.py:699: UserWarning: The distribution is specified by [10, 500] and step=20, but the range is not divisible by `step`. It will be replaced by [10, 490].\n",
      "  warnings.warn(\n",
      "[I 2025-06-03 11:32:01,881] Trial 3 finished with value: 1.8662368364628783 and parameters: {'max_depth': 11, 'num_leaves': 2048, 'min_data_in_leaf': 50, 'learning_rate': 0.014151336092801711}. Best is trial 1 with value: 1.8032267251468017.\n"
     ]
    },
    {
     "name": "stdout",
     "output_type": "stream",
     "text": [
      "Trial 3 - RMSE: 1.8662, Best Iteration: 2038\n"
     ]
    },
    {
     "name": "stderr",
     "output_type": "stream",
     "text": [
      "C:\\Users\\Çağan\\AppData\\Local\\Packages\\PythonSoftwareFoundation.Python.3.12_qbz5n2kfra8p0\\LocalCache\\local-packages\\Python312\\site-packages\\optuna\\distributions.py:699: UserWarning: The distribution is specified by [10, 500] and step=20, but the range is not divisible by `step`. It will be replaced by [10, 490].\n",
      "  warnings.warn(\n",
      "[I 2025-06-03 11:32:28,389] Trial 4 finished with value: 1.7887157157231144 and parameters: {'max_depth': 9, 'num_leaves': 320, 'min_data_in_leaf': 210, 'learning_rate': 0.03505676375592946}. Best is trial 4 with value: 1.7887157157231144.\n"
     ]
    },
    {
     "name": "stdout",
     "output_type": "stream",
     "text": [
      "Trial 4 - RMSE: 1.7887, Best Iteration: 3212\n"
     ]
    },
    {
     "name": "stderr",
     "output_type": "stream",
     "text": [
      "C:\\Users\\Çağan\\AppData\\Local\\Packages\\PythonSoftwareFoundation.Python.3.12_qbz5n2kfra8p0\\LocalCache\\local-packages\\Python312\\site-packages\\optuna\\distributions.py:699: UserWarning: The distribution is specified by [10, 500] and step=20, but the range is not divisible by `step`. It will be replaced by [10, 490].\n",
      "  warnings.warn(\n",
      "[I 2025-06-03 11:32:38,777] Trial 5 finished with value: 1.849901200414576 and parameters: {'max_depth': 9, 'num_leaves': 192, 'min_data_in_leaf': 10, 'learning_rate': 0.028180527841924236}. Best is trial 4 with value: 1.7887157157231144.\n"
     ]
    },
    {
     "name": "stdout",
     "output_type": "stream",
     "text": [
      "Trial 5 - RMSE: 1.8499, Best Iteration: 483\n"
     ]
    },
    {
     "name": "stderr",
     "output_type": "stream",
     "text": [
      "C:\\Users\\Çağan\\AppData\\Local\\Packages\\PythonSoftwareFoundation.Python.3.12_qbz5n2kfra8p0\\LocalCache\\local-packages\\Python312\\site-packages\\optuna\\distributions.py:699: UserWarning: The distribution is specified by [10, 500] and step=20, but the range is not divisible by `step`. It will be replaced by [10, 490].\n",
      "  warnings.warn(\n",
      "[I 2025-06-03 11:34:59,263] Trial 6 finished with value: 2.0054612245026 and parameters: {'max_depth': 3, 'num_leaves': 3, 'min_data_in_leaf': 30, 'learning_rate': 0.02922177056465045}. Best is trial 4 with value: 1.7887157157231144.\n"
     ]
    },
    {
     "name": "stdout",
     "output_type": "stream",
     "text": [
      "Trial 6 - RMSE: 2.0055, Best Iteration: 8738\n"
     ]
    },
    {
     "name": "stderr",
     "output_type": "stream",
     "text": [
      "C:\\Users\\Çağan\\AppData\\Local\\Packages\\PythonSoftwareFoundation.Python.3.12_qbz5n2kfra8p0\\LocalCache\\local-packages\\Python312\\site-packages\\optuna\\distributions.py:699: UserWarning: The distribution is specified by [10, 500] and step=20, but the range is not divisible by `step`. It will be replaced by [10, 490].\n",
      "  warnings.warn(\n",
      "[I 2025-06-03 11:35:13,783] Trial 7 finished with value: 1.7618045154583677 and parameters: {'max_depth': 7, 'num_leaves': 32, 'min_data_in_leaf': 270, 'learning_rate': 0.0692644203781099}. Best is trial 7 with value: 1.7618045154583677.\n"
     ]
    },
    {
     "name": "stdout",
     "output_type": "stream",
     "text": [
      "Trial 7 - RMSE: 1.7618, Best Iteration: 2380\n"
     ]
    },
    {
     "name": "stderr",
     "output_type": "stream",
     "text": [
      "C:\\Users\\Çağan\\AppData\\Local\\Packages\\PythonSoftwareFoundation.Python.3.12_qbz5n2kfra8p0\\LocalCache\\local-packages\\Python312\\site-packages\\optuna\\distributions.py:699: UserWarning: The distribution is specified by [10, 500] and step=20, but the range is not divisible by `step`. It will be replaced by [10, 490].\n",
      "  warnings.warn(\n",
      "[I 2025-06-03 11:35:36,901] Trial 8 finished with value: 1.773044899835846 and parameters: {'max_depth': 11, 'num_leaves': 2048, 'min_data_in_leaf': 250, 'learning_rate': 0.08053774011180392}. Best is trial 7 with value: 1.7618045154583677.\n"
     ]
    },
    {
     "name": "stdout",
     "output_type": "stream",
     "text": [
      "Trial 8 - RMSE: 1.7730, Best Iteration: 1685\n"
     ]
    },
    {
     "name": "stderr",
     "output_type": "stream",
     "text": [
      "C:\\Users\\Çağan\\AppData\\Local\\Packages\\PythonSoftwareFoundation.Python.3.12_qbz5n2kfra8p0\\LocalCache\\local-packages\\Python312\\site-packages\\optuna\\distributions.py:699: UserWarning: The distribution is specified by [10, 500] and step=20, but the range is not divisible by `step`. It will be replaced by [10, 490].\n",
      "  warnings.warn(\n",
      "[I 2025-06-03 11:38:07,208] Trial 9 finished with value: 1.7754453227829115 and parameters: {'max_depth': 15, 'num_leaves': 24576, 'min_data_in_leaf': 270, 'learning_rate': 0.029586135382104892}. Best is trial 7 with value: 1.7618045154583677.\n"
     ]
    },
    {
     "name": "stdout",
     "output_type": "stream",
     "text": [
      "Trial 9 - RMSE: 1.7754, Best Iteration: 4147\n"
     ]
    },
    {
     "name": "stderr",
     "output_type": "stream",
     "text": [
      "C:\\Users\\Çağan\\AppData\\Local\\Packages\\PythonSoftwareFoundation.Python.3.12_qbz5n2kfra8p0\\LocalCache\\local-packages\\Python312\\site-packages\\optuna\\distributions.py:699: UserWarning: The distribution is specified by [10, 500] and step=20, but the range is not divisible by `step`. It will be replaced by [10, 490].\n",
      "  warnings.warn(\n",
      "[I 2025-06-03 11:38:27,790] Trial 10 finished with value: 1.7889765726180804 and parameters: {'max_depth': 3, 'num_leaves': 7, 'min_data_in_leaf': 430, 'learning_rate': 0.07531789998780805}. Best is trial 7 with value: 1.7618045154583677.\n"
     ]
    },
    {
     "name": "stdout",
     "output_type": "stream",
     "text": [
      "Trial 10 - RMSE: 1.7890, Best Iteration: 5839\n"
     ]
    },
    {
     "name": "stderr",
     "output_type": "stream",
     "text": [
      "C:\\Users\\Çağan\\AppData\\Local\\Packages\\PythonSoftwareFoundation.Python.3.12_qbz5n2kfra8p0\\LocalCache\\local-packages\\Python312\\site-packages\\optuna\\distributions.py:699: UserWarning: The distribution is specified by [10, 500] and step=20, but the range is not divisible by `step`. It will be replaced by [10, 490].\n",
      "  warnings.warn(\n",
      "[I 2025-06-03 11:38:52,792] Trial 11 finished with value: 1.7320258065479721 and parameters: {'max_depth': 11, 'num_leaves': 1280, 'min_data_in_leaf': 350, 'learning_rate': 0.08263320287342613}. Best is trial 11 with value: 1.7320258065479721.\n"
     ]
    },
    {
     "name": "stdout",
     "output_type": "stream",
     "text": [
      "Trial 11 - RMSE: 1.7320, Best Iteration: 2483\n"
     ]
    },
    {
     "name": "stderr",
     "output_type": "stream",
     "text": [
      "C:\\Users\\Çağan\\AppData\\Local\\Packages\\PythonSoftwareFoundation.Python.3.12_qbz5n2kfra8p0\\LocalCache\\local-packages\\Python312\\site-packages\\optuna\\distributions.py:699: UserWarning: The distribution is specified by [10, 500] and step=20, but the range is not divisible by `step`. It will be replaced by [10, 490].\n",
      "  warnings.warn(\n",
      "[I 2025-06-03 11:39:59,883] Trial 12 finished with value: 1.7389539668173275 and parameters: {'max_depth': 11, 'num_leaves': 768, 'min_data_in_leaf': 370, 'learning_rate': 0.09979366656762854}. Best is trial 11 with value: 1.7320258065479721.\n"
     ]
    },
    {
     "name": "stdout",
     "output_type": "stream",
     "text": [
      "Trial 12 - RMSE: 1.7390, Best Iteration: 2006\n"
     ]
    },
    {
     "name": "stderr",
     "output_type": "stream",
     "text": [
      "C:\\Users\\Çağan\\AppData\\Local\\Packages\\PythonSoftwareFoundation.Python.3.12_qbz5n2kfra8p0\\LocalCache\\local-packages\\Python312\\site-packages\\optuna\\distributions.py:699: UserWarning: The distribution is specified by [10, 500] and step=20, but the range is not divisible by `step`. It will be replaced by [10, 490].\n",
      "  warnings.warn(\n",
      "[I 2025-06-03 11:42:59,122] Trial 13 finished with value: 1.7302955536075633 and parameters: {'max_depth': 13, 'num_leaves': 3072, 'min_data_in_leaf': 410, 'learning_rate': 0.09810077419106313}. Best is trial 13 with value: 1.7302955536075633.\n"
     ]
    },
    {
     "name": "stdout",
     "output_type": "stream",
     "text": [
      "Trial 13 - RMSE: 1.7303, Best Iteration: 2613\n"
     ]
    },
    {
     "name": "stderr",
     "output_type": "stream",
     "text": [
      "C:\\Users\\Çağan\\AppData\\Local\\Packages\\PythonSoftwareFoundation.Python.3.12_qbz5n2kfra8p0\\LocalCache\\local-packages\\Python312\\site-packages\\optuna\\distributions.py:699: UserWarning: The distribution is specified by [10, 500] and step=20, but the range is not divisible by `step`. It will be replaced by [10, 490].\n",
      "  warnings.warn(\n",
      "[I 2025-06-03 11:43:35,873] Trial 14 finished with value: 1.7245958645448376 and parameters: {'max_depth': 13, 'num_leaves': 4096, 'min_data_in_leaf': 470, 'learning_rate': 0.09723997072349967}. Best is trial 14 with value: 1.7245958645448376.\n"
     ]
    },
    {
     "name": "stdout",
     "output_type": "stream",
     "text": [
      "Trial 14 - RMSE: 1.7246, Best Iteration: 2732\n"
     ]
    },
    {
     "name": "stderr",
     "output_type": "stream",
     "text": [
      "C:\\Users\\Çağan\\AppData\\Local\\Packages\\PythonSoftwareFoundation.Python.3.12_qbz5n2kfra8p0\\LocalCache\\local-packages\\Python312\\site-packages\\optuna\\distributions.py:699: UserWarning: The distribution is specified by [10, 500] and step=20, but the range is not divisible by `step`. It will be replaced by [10, 490].\n",
      "  warnings.warn(\n",
      "[I 2025-06-03 11:44:11,745] Trial 15 finished with value: 1.724283279390455 and parameters: {'max_depth': 13, 'num_leaves': 4096, 'min_data_in_leaf': 490, 'learning_rate': 0.09535783178069156}. Best is trial 15 with value: 1.724283279390455.\n"
     ]
    },
    {
     "name": "stdout",
     "output_type": "stream",
     "text": [
      "Trial 15 - RMSE: 1.7243, Best Iteration: 2848\n"
     ]
    },
    {
     "name": "stderr",
     "output_type": "stream",
     "text": [
      "C:\\Users\\Çağan\\AppData\\Local\\Packages\\PythonSoftwareFoundation.Python.3.12_qbz5n2kfra8p0\\LocalCache\\local-packages\\Python312\\site-packages\\optuna\\distributions.py:699: UserWarning: The distribution is specified by [10, 500] and step=20, but the range is not divisible by `step`. It will be replaced by [10, 490].\n",
      "  warnings.warn(\n",
      "[I 2025-06-03 11:45:17,646] Trial 16 finished with value: 1.7270923800156979 and parameters: {'max_depth': 13, 'num_leaves': 5120, 'min_data_in_leaf': 490, 'learning_rate': 0.05127359510620017}. Best is trial 15 with value: 1.724283279390455.\n"
     ]
    },
    {
     "name": "stdout",
     "output_type": "stream",
     "text": [
      "Trial 16 - RMSE: 1.7271, Best Iteration: 4947\n"
     ]
    },
    {
     "name": "stderr",
     "output_type": "stream",
     "text": [
      "C:\\Users\\Çağan\\AppData\\Local\\Packages\\PythonSoftwareFoundation.Python.3.12_qbz5n2kfra8p0\\LocalCache\\local-packages\\Python312\\site-packages\\optuna\\distributions.py:699: UserWarning: The distribution is specified by [10, 500] and step=20, but the range is not divisible by `step`. It will be replaced by [10, 490].\n",
      "  warnings.warn(\n",
      "[I 2025-06-03 11:46:11,859] Trial 17 finished with value: 1.7244884174089918 and parameters: {'max_depth': 13, 'num_leaves': 5120, 'min_data_in_leaf': 470, 'learning_rate': 0.06420219830540062}. Best is trial 15 with value: 1.724283279390455.\n"
     ]
    },
    {
     "name": "stdout",
     "output_type": "stream",
     "text": [
      "Trial 17 - RMSE: 1.7245, Best Iteration: 4192\n"
     ]
    },
    {
     "name": "stderr",
     "output_type": "stream",
     "text": [
      "C:\\Users\\Çağan\\AppData\\Local\\Packages\\PythonSoftwareFoundation.Python.3.12_qbz5n2kfra8p0\\LocalCache\\local-packages\\Python312\\site-packages\\optuna\\distributions.py:699: UserWarning: The distribution is specified by [10, 500] and step=20, but the range is not divisible by `step`. It will be replaced by [10, 490].\n",
      "  warnings.warn(\n",
      "[I 2025-06-03 11:47:17,880] Trial 18 finished with value: 1.748285897556124 and parameters: {'max_depth': 15, 'num_leaves': 12288, 'min_data_in_leaf': 330, 'learning_rate': 0.05956339785470319}. Best is trial 15 with value: 1.724283279390455.\n"
     ]
    },
    {
     "name": "stdout",
     "output_type": "stream",
     "text": [
      "Trial 18 - RMSE: 1.7483, Best Iteration: 3010\n"
     ]
    },
    {
     "name": "stderr",
     "output_type": "stream",
     "text": [
      "C:\\Users\\Çağan\\AppData\\Local\\Packages\\PythonSoftwareFoundation.Python.3.12_qbz5n2kfra8p0\\LocalCache\\local-packages\\Python312\\site-packages\\optuna\\distributions.py:699: UserWarning: The distribution is specified by [10, 500] and step=20, but the range is not divisible by `step`. It will be replaced by [10, 490].\n",
      "  warnings.warn(\n",
      "[I 2025-06-03 11:48:22,846] Trial 19 finished with value: 1.7282015730328903 and parameters: {'max_depth': 13, 'num_leaves': 6144, 'min_data_in_leaf': 430, 'learning_rate': 0.05859483511724545}. Best is trial 15 with value: 1.724283279390455.\n",
      "[I 2025-06-03 11:48:22,863] A new study created in memory with name: no-name-324d5456-7473-446f-ad37-e128f29e7f09\n"
     ]
    },
    {
     "name": "stdout",
     "output_type": "stream",
     "text": [
      "Trial 19 - RMSE: 1.7282, Best Iteration: 3914\n",
      "Best score wet: 1.724283279390455\n",
      "Best hyperparameters wet: {'max_depth': 13, 'num_leaves': 4096, 'min_data_in_leaf': 490, 'learning_rate': 0.09535783178069156}\n"
     ]
    },
    {
     "name": "stderr",
     "output_type": "stream",
     "text": [
      "C:\\Users\\Çağan\\AppData\\Local\\Packages\\PythonSoftwareFoundation.Python.3.12_qbz5n2kfra8p0\\LocalCache\\local-packages\\Python312\\site-packages\\optuna\\distributions.py:699: UserWarning: The distribution is specified by [10, 500] and step=20, but the range is not divisible by `step`. It will be replaced by [10, 490].\n",
      "  warnings.warn(\n",
      "[I 2025-06-03 11:49:03,721] Trial 0 finished with value: 0.8935995052623762 and parameters: {'max_depth': 13, 'num_leaves': 7168, 'min_data_in_leaf': 10, 'learning_rate': 0.0901057730630073}. Best is trial 0 with value: 0.8935995052623762.\n"
     ]
    },
    {
     "name": "stdout",
     "output_type": "stream",
     "text": [
      "Trial 0 - RMSE: 0.8936, Best Iteration: 123\n"
     ]
    },
    {
     "name": "stderr",
     "output_type": "stream",
     "text": [
      "C:\\Users\\Çağan\\AppData\\Local\\Packages\\PythonSoftwareFoundation.Python.3.12_qbz5n2kfra8p0\\LocalCache\\local-packages\\Python312\\site-packages\\optuna\\distributions.py:699: UserWarning: The distribution is specified by [10, 500] and step=20, but the range is not divisible by `step`. It will be replaced by [10, 490].\n",
      "  warnings.warn(\n",
      "[I 2025-06-03 11:51:19,960] Trial 1 finished with value: 0.9291668403772754 and parameters: {'max_depth': 15, 'num_leaves': 8192, 'min_data_in_leaf': 190, 'learning_rate': 0.060320554906258844}. Best is trial 0 with value: 0.8935995052623762.\n"
     ]
    },
    {
     "name": "stdout",
     "output_type": "stream",
     "text": [
      "Trial 1 - RMSE: 0.9292, Best Iteration: 3087\n"
     ]
    },
    {
     "name": "stderr",
     "output_type": "stream",
     "text": [
      "C:\\Users\\Çağan\\AppData\\Local\\Packages\\PythonSoftwareFoundation.Python.3.12_qbz5n2kfra8p0\\LocalCache\\local-packages\\Python312\\site-packages\\optuna\\distributions.py:699: UserWarning: The distribution is specified by [10, 500] and step=20, but the range is not divisible by `step`. It will be replaced by [10, 490].\n",
      "  warnings.warn(\n",
      "[I 2025-06-03 11:57:04,437] Trial 2 finished with value: 0.9115315685058075 and parameters: {'max_depth': 15, 'num_leaves': 28672, 'min_data_in_leaf': 490, 'learning_rate': 0.06478821458334093}. Best is trial 0 with value: 0.8935995052623762.\n"
     ]
    },
    {
     "name": "stdout",
     "output_type": "stream",
     "text": [
      "Trial 2 - RMSE: 0.9115, Best Iteration: 4272\n"
     ]
    },
    {
     "name": "stderr",
     "output_type": "stream",
     "text": [
      "C:\\Users\\Çağan\\AppData\\Local\\Packages\\PythonSoftwareFoundation.Python.3.12_qbz5n2kfra8p0\\LocalCache\\local-packages\\Python312\\site-packages\\optuna\\distributions.py:699: UserWarning: The distribution is specified by [10, 500] and step=20, but the range is not divisible by `step`. It will be replaced by [10, 490].\n",
      "  warnings.warn(\n",
      "[I 2025-06-03 12:08:10,888] Trial 3 finished with value: 0.9111524034771252 and parameters: {'max_depth': 15, 'num_leaves': 28672, 'min_data_in_leaf': 470, 'learning_rate': 0.03753790885006814}. Best is trial 0 with value: 0.8935995052623762.\n"
     ]
    },
    {
     "name": "stdout",
     "output_type": "stream",
     "text": [
      "Trial 3 - RMSE: 0.9112, Best Iteration: 7169\n"
     ]
    },
    {
     "name": "stderr",
     "output_type": "stream",
     "text": [
      "C:\\Users\\Çağan\\AppData\\Local\\Packages\\PythonSoftwareFoundation.Python.3.12_qbz5n2kfra8p0\\LocalCache\\local-packages\\Python312\\site-packages\\optuna\\distributions.py:699: UserWarning: The distribution is specified by [10, 500] and step=20, but the range is not divisible by `step`. It will be replaced by [10, 490].\n",
      "  warnings.warn(\n",
      "[I 2025-06-03 12:08:46,881] Trial 4 finished with value: 0.9163110270599317 and parameters: {'max_depth': 11, 'num_leaves': 1792, 'min_data_in_leaf': 50, 'learning_rate': 0.08569571461816286}. Best is trial 0 with value: 0.8935995052623762.\n"
     ]
    },
    {
     "name": "stdout",
     "output_type": "stream",
     "text": [
      "Trial 4 - RMSE: 0.9163, Best Iteration: 541\n"
     ]
    },
    {
     "name": "stderr",
     "output_type": "stream",
     "text": [
      "C:\\Users\\Çağan\\AppData\\Local\\Packages\\PythonSoftwareFoundation.Python.3.12_qbz5n2kfra8p0\\LocalCache\\local-packages\\Python312\\site-packages\\optuna\\distributions.py:699: UserWarning: The distribution is specified by [10, 500] and step=20, but the range is not divisible by `step`. It will be replaced by [10, 490].\n",
      "  warnings.warn(\n",
      "[I 2025-06-03 12:10:08,417] Trial 5 finished with value: 0.9093904740016322 and parameters: {'max_depth': 7, 'num_leaves': 112, 'min_data_in_leaf': 350, 'learning_rate': 0.06701625154112492}. Best is trial 0 with value: 0.8935995052623762.\n"
     ]
    },
    {
     "name": "stdout",
     "output_type": "stream",
     "text": [
      "Trial 5 - RMSE: 0.9094, Best Iteration: 6437\n"
     ]
    },
    {
     "name": "stderr",
     "output_type": "stream",
     "text": [
      "C:\\Users\\Çağan\\AppData\\Local\\Packages\\PythonSoftwareFoundation.Python.3.12_qbz5n2kfra8p0\\LocalCache\\local-packages\\Python312\\site-packages\\optuna\\distributions.py:699: UserWarning: The distribution is specified by [10, 500] and step=20, but the range is not divisible by `step`. It will be replaced by [10, 490].\n",
      "  warnings.warn(\n",
      "[I 2025-06-03 12:11:33,541] Trial 6 finished with value: 0.9114882167565137 and parameters: {'max_depth': 5, 'num_leaves': 24, 'min_data_in_leaf': 170, 'learning_rate': 0.02437723779161646}. Best is trial 0 with value: 0.8935995052623762.\n"
     ]
    },
    {
     "name": "stdout",
     "output_type": "stream",
     "text": [
      "Trial 6 - RMSE: 0.9115, Best Iteration: 9275\n"
     ]
    },
    {
     "name": "stderr",
     "output_type": "stream",
     "text": [
      "C:\\Users\\Çağan\\AppData\\Local\\Packages\\PythonSoftwareFoundation.Python.3.12_qbz5n2kfra8p0\\LocalCache\\local-packages\\Python312\\site-packages\\optuna\\distributions.py:699: UserWarning: The distribution is specified by [10, 500] and step=20, but the range is not divisible by `step`. It will be replaced by [10, 490].\n",
      "  warnings.warn(\n",
      "[I 2025-06-03 12:11:57,898] Trial 7 finished with value: 0.8920423740699436 and parameters: {'max_depth': 9, 'num_leaves': 256, 'min_data_in_leaf': 30, 'learning_rate': 0.06662450903474555}. Best is trial 7 with value: 0.8920423740699436.\n"
     ]
    },
    {
     "name": "stdout",
     "output_type": "stream",
     "text": [
      "Trial 7 - RMSE: 0.8920, Best Iteration: 644\n"
     ]
    },
    {
     "name": "stderr",
     "output_type": "stream",
     "text": [
      "C:\\Users\\Çağan\\AppData\\Local\\Packages\\PythonSoftwareFoundation.Python.3.12_qbz5n2kfra8p0\\LocalCache\\local-packages\\Python312\\site-packages\\optuna\\distributions.py:699: UserWarning: The distribution is specified by [10, 500] and step=20, but the range is not divisible by `step`. It will be replaced by [10, 490].\n",
      "  warnings.warn(\n",
      "[I 2025-06-03 12:13:25,505] Trial 8 finished with value: 0.9064231459640736 and parameters: {'max_depth': 9, 'num_leaves': 256, 'min_data_in_leaf': 170, 'learning_rate': 0.049476369382764465}. Best is trial 7 with value: 0.8920423740699436.\n"
     ]
    },
    {
     "name": "stdout",
     "output_type": "stream",
     "text": [
      "Trial 8 - RMSE: 0.9064, Best Iteration: 3907\n"
     ]
    },
    {
     "name": "stderr",
     "output_type": "stream",
     "text": [
      "C:\\Users\\Çağan\\AppData\\Local\\Packages\\PythonSoftwareFoundation.Python.3.12_qbz5n2kfra8p0\\LocalCache\\local-packages\\Python312\\site-packages\\optuna\\distributions.py:699: UserWarning: The distribution is specified by [10, 500] and step=20, but the range is not divisible by `step`. It will be replaced by [10, 490].\n",
      "  warnings.warn(\n",
      "[I 2025-06-03 12:14:58,080] Trial 9 finished with value: 0.9729952457334633 and parameters: {'max_depth': 5, 'num_leaves': 20, 'min_data_in_leaf': 370, 'learning_rate': 0.02861739066223846}. Best is trial 7 with value: 0.8920423740699436.\n"
     ]
    },
    {
     "name": "stdout",
     "output_type": "stream",
     "text": [
      "Trial 9 - RMSE: 0.9730, Best Iteration: 9842\n"
     ]
    },
    {
     "name": "stderr",
     "output_type": "stream",
     "text": [
      "C:\\Users\\Çağan\\AppData\\Local\\Packages\\PythonSoftwareFoundation.Python.3.12_qbz5n2kfra8p0\\LocalCache\\local-packages\\Python312\\site-packages\\optuna\\distributions.py:699: UserWarning: The distribution is specified by [10, 500] and step=20, but the range is not divisible by `step`. It will be replaced by [10, 490].\n",
      "  warnings.warn(\n",
      "[I 2025-06-03 12:15:43,604] Trial 10 finished with value: 1.3842218677222058 and parameters: {'max_depth': 3, 'num_leaves': 2, 'min_data_in_leaf': 90, 'learning_rate': 0.0019678517721544234}. Best is trial 7 with value: 0.8920423740699436.\n"
     ]
    },
    {
     "name": "stdout",
     "output_type": "stream",
     "text": [
      "Trial 10 - RMSE: 1.3842, Best Iteration: 10000\n"
     ]
    },
    {
     "name": "stderr",
     "output_type": "stream",
     "text": [
      "C:\\Users\\Çağan\\AppData\\Local\\Packages\\PythonSoftwareFoundation.Python.3.12_qbz5n2kfra8p0\\LocalCache\\local-packages\\Python312\\site-packages\\optuna\\distributions.py:699: UserWarning: The distribution is specified by [10, 500] and step=20, but the range is not divisible by `step`. It will be replaced by [10, 490].\n",
      "  warnings.warn(\n",
      "[I 2025-06-03 12:16:06,639] Trial 11 finished with value: 0.8934687438559449 and parameters: {'max_depth': 11, 'num_leaves': 1024, 'min_data_in_leaf': 10, 'learning_rate': 0.09949238731694496}. Best is trial 7 with value: 0.8920423740699436.\n"
     ]
    },
    {
     "name": "stdout",
     "output_type": "stream",
     "text": [
      "Trial 11 - RMSE: 0.8935, Best Iteration: 159\n"
     ]
    },
    {
     "name": "stderr",
     "output_type": "stream",
     "text": [
      "C:\\Users\\Çağan\\AppData\\Local\\Packages\\PythonSoftwareFoundation.Python.3.12_qbz5n2kfra8p0\\LocalCache\\local-packages\\Python312\\site-packages\\optuna\\distributions.py:699: UserWarning: The distribution is specified by [10, 500] and step=20, but the range is not divisible by `step`. It will be replaced by [10, 490].\n",
      "  warnings.warn(\n",
      "[I 2025-06-03 12:16:39,115] Trial 12 finished with value: 0.899597996331041 and parameters: {'max_depth': 11, 'num_leaves': 768, 'min_data_in_leaf': 110, 'learning_rate': 0.09819930678418134}. Best is trial 7 with value: 0.8920423740699436.\n"
     ]
    },
    {
     "name": "stdout",
     "output_type": "stream",
     "text": [
      "Trial 12 - RMSE: 0.8996, Best Iteration: 1226\n"
     ]
    },
    {
     "name": "stderr",
     "output_type": "stream",
     "text": [
      "C:\\Users\\Çağan\\AppData\\Local\\Packages\\PythonSoftwareFoundation.Python.3.12_qbz5n2kfra8p0\\LocalCache\\local-packages\\Python312\\site-packages\\optuna\\distributions.py:699: UserWarning: The distribution is specified by [10, 500] and step=20, but the range is not divisible by `step`. It will be replaced by [10, 490].\n",
      "  warnings.warn(\n",
      "[I 2025-06-03 12:16:57,616] Trial 13 finished with value: 0.8999126510080021 and parameters: {'max_depth': 9, 'num_leaves': 320, 'min_data_in_leaf': 10, 'learning_rate': 0.07830456680858311}. Best is trial 7 with value: 0.8920423740699436.\n"
     ]
    },
    {
     "name": "stdout",
     "output_type": "stream",
     "text": [
      "Trial 13 - RMSE: 0.8999, Best Iteration: 324\n"
     ]
    },
    {
     "name": "stderr",
     "output_type": "stream",
     "text": [
      "C:\\Users\\Çağan\\AppData\\Local\\Packages\\PythonSoftwareFoundation.Python.3.12_qbz5n2kfra8p0\\LocalCache\\local-packages\\Python312\\site-packages\\optuna\\distributions.py:699: UserWarning: The distribution is specified by [10, 500] and step=20, but the range is not divisible by `step`. It will be replaced by [10, 490].\n",
      "  warnings.warn(\n",
      "[I 2025-06-03 12:18:27,432] Trial 14 finished with value: 0.9145599522957137 and parameters: {'max_depth': 11, 'num_leaves': 1024, 'min_data_in_leaf': 250, 'learning_rate': 0.07431192936126693}. Best is trial 7 with value: 0.8920423740699436.\n"
     ]
    },
    {
     "name": "stdout",
     "output_type": "stream",
     "text": [
      "Trial 14 - RMSE: 0.9146, Best Iteration: 4004\n"
     ]
    },
    {
     "name": "stderr",
     "output_type": "stream",
     "text": [
      "C:\\Users\\Çağan\\AppData\\Local\\Packages\\PythonSoftwareFoundation.Python.3.12_qbz5n2kfra8p0\\LocalCache\\local-packages\\Python312\\site-packages\\optuna\\distributions.py:699: UserWarning: The distribution is specified by [10, 500] and step=20, but the range is not divisible by `step`. It will be replaced by [10, 490].\n",
      "  warnings.warn(\n",
      "[I 2025-06-03 12:18:50,907] Trial 15 finished with value: 0.8970158924485719 and parameters: {'max_depth': 7, 'num_leaves': 112, 'min_data_in_leaf': 90, 'learning_rate': 0.09918824009461795}. Best is trial 7 with value: 0.8920423740699436.\n"
     ]
    },
    {
     "name": "stdout",
     "output_type": "stream",
     "text": [
      "Trial 15 - RMSE: 0.8970, Best Iteration: 1548\n"
     ]
    },
    {
     "name": "stderr",
     "output_type": "stream",
     "text": [
      "C:\\Users\\Çağan\\AppData\\Local\\Packages\\PythonSoftwareFoundation.Python.3.12_qbz5n2kfra8p0\\LocalCache\\local-packages\\Python312\\site-packages\\optuna\\distributions.py:699: UserWarning: The distribution is specified by [10, 500] and step=20, but the range is not divisible by `step`. It will be replaced by [10, 490].\n",
      "  warnings.warn(\n",
      "[I 2025-06-03 12:21:37,802] Trial 16 finished with value: 0.914702750468454 and parameters: {'max_depth': 13, 'num_leaves': 3072, 'min_data_in_leaf': 270, 'learning_rate': 0.04722819865652359}. Best is trial 7 with value: 0.8920423740699436.\n"
     ]
    },
    {
     "name": "stdout",
     "output_type": "stream",
     "text": [
      "Trial 16 - RMSE: 0.9147, Best Iteration: 5460\n"
     ]
    },
    {
     "name": "stderr",
     "output_type": "stream",
     "text": [
      "C:\\Users\\Çağan\\AppData\\Local\\Packages\\PythonSoftwareFoundation.Python.3.12_qbz5n2kfra8p0\\LocalCache\\local-packages\\Python312\\site-packages\\optuna\\distributions.py:699: UserWarning: The distribution is specified by [10, 500] and step=20, but the range is not divisible by `step`. It will be replaced by [10, 490].\n",
      "  warnings.warn(\n",
      "[I 2025-06-03 12:21:54,334] Trial 17 finished with value: 0.90073561084143 and parameters: {'max_depth': 7, 'num_leaves': 112, 'min_data_in_leaf': 10, 'learning_rate': 0.08313037765981035}. Best is trial 7 with value: 0.8920423740699436.\n"
     ]
    },
    {
     "name": "stdout",
     "output_type": "stream",
     "text": [
      "Trial 17 - RMSE: 0.9007, Best Iteration: 640\n"
     ]
    },
    {
     "name": "stderr",
     "output_type": "stream",
     "text": [
      "C:\\Users\\Çağan\\AppData\\Local\\Packages\\PythonSoftwareFoundation.Python.3.12_qbz5n2kfra8p0\\LocalCache\\local-packages\\Python312\\site-packages\\optuna\\distributions.py:699: UserWarning: The distribution is specified by [10, 500] and step=20, but the range is not divisible by `step`. It will be replaced by [10, 490].\n",
      "  warnings.warn(\n",
      "[I 2025-06-03 12:25:00,009] Trial 18 finished with value: 0.9972130858546444 and parameters: {'max_depth': 9, 'num_leaves': 256, 'min_data_in_leaf': 130, 'learning_rate': 0.0037735051711993636}. Best is trial 7 with value: 0.8920423740699436.\n"
     ]
    },
    {
     "name": "stdout",
     "output_type": "stream",
     "text": [
      "Trial 18 - RMSE: 0.9972, Best Iteration: 9832\n"
     ]
    },
    {
     "name": "stderr",
     "output_type": "stream",
     "text": [
      "C:\\Users\\Çağan\\AppData\\Local\\Packages\\PythonSoftwareFoundation.Python.3.12_qbz5n2kfra8p0\\LocalCache\\local-packages\\Python312\\site-packages\\optuna\\distributions.py:699: UserWarning: The distribution is specified by [10, 500] and step=20, but the range is not divisible by `step`. It will be replaced by [10, 490].\n",
      "  warnings.warn(\n",
      "[I 2025-06-03 12:27:22,630] Trial 19 finished with value: 0.934120246400091 and parameters: {'max_depth': 13, 'num_leaves': 3072, 'min_data_in_leaf': 230, 'learning_rate': 0.057618862318859695}. Best is trial 7 with value: 0.8920423740699436.\n"
     ]
    },
    {
     "name": "stdout",
     "output_type": "stream",
     "text": [
      "Trial 19 - RMSE: 0.9341, Best Iteration: 3954\n",
      "Best score dry: 0.8920423740699436\n",
      "Best hyperparameters dry: {'max_depth': 9, 'num_leaves': 256, 'min_data_in_leaf': 30, 'learning_rate': 0.06662450903474555}\n"
     ]
    }
   ],
   "source": [
    "import optuna\n",
    "\n",
    "def run_cv(trial: optuna.Trial, X_train, y_train):\n",
    "    preprocessor = ColumnTransformer(transformers=[\n",
    "        (\"scaler\", StandardScaler(), numerical_features),\n",
    "    ],remainder='passthrough')\n",
    "\n",
    "    max_depth = trial.suggest_int('max_depth', 3, 15, step=2)\n",
    "    num_leaves = trial.suggest_int('num_leaves', 2**(max_depth-2), 2**max_depth, step=2**(max_depth-3))\n",
    "    min_data_in_leaf = trial.suggest_int('min_data_in_leaf', 10, 500, step=20),\n",
    "    lr = trial.suggest_float('learning_rate', 0.001, 0.1)\n",
    "\n",
    "    model = lgb.LGBMRegressor(\n",
    "        n_estimators=10000,\n",
    "        num_leaves=num_leaves,\n",
    "        min_data_in_leaf=min_data_in_leaf,\n",
    "        learning_rate=lr,\n",
    "        max_depth=max_depth,\n",
    "        random_state=7643,\n",
    "        n_jobs=-1,\n",
    "        verbose=-1\n",
    "    )\n",
    "    kfold = KFold(n_splits=10, shuffle=True, random_state=346436)\n",
    "    scores = []\n",
    "    best_iters = []\n",
    "    for train_ind, val_ind in kfold.split(X_train, y_train):\n",
    "        X_train_fold, X_val_fold = X_train.iloc[train_ind], X_train.iloc[val_ind]\n",
    "        y_train_fold, y_val_fold = y_train.iloc[train_ind], y_train.iloc[val_ind]\n",
    "        X_train_fold = preprocessor.fit_transform(X_train_fold)\n",
    "        X_val_fold = preprocessor.transform(X_val_fold)\n",
    "\n",
    "        model.fit(X_train_fold, y_train_fold, eval_metric=\"root_mean_squared_error\", feature_name=X_train.columns.to_list(),\n",
    "                   eval_set=[(X_val_fold, y_val_fold)], callbacks=[lgb.early_stopping(stopping_rounds=100, verbose=False)])\n",
    "        scores.append(model.best_score_['valid_0']['rmse'])\n",
    "        best_iters.append(model.best_iteration_)\n",
    "    scores = np.array(scores)\n",
    "    best_iters = np.array(best_iters)\n",
    "    print(f\"Trial {trial.number} - RMSE: {scores.mean():.4f}, Best Iteration: {best_iters.mean():.0f}\")\n",
    "    return scores.mean()\n",
    "\n",
    "\n",
    "def optimize_wet(trial: optuna.Trial):\n",
    "    return run_cv(trial, X_wet_train, y_wet_train)\n",
    "study = optuna.create_study(direction=\"minimize\")\n",
    "study.optimize(optimize_wet, n_trials=20)\n",
    "print(\"Best score wet:\", study.best_value)\n",
    "print(\"Best hyperparameters wet:\", study.best_params)\n",
    "\n",
    "def optimize_dry(trial: optuna.Trial):\n",
    "    return run_cv(trial, X_dry_train, y_dry_train)\n",
    "study_dry = optuna.create_study(direction=\"minimize\")\n",
    "study_dry.optimize(optimize_dry, n_trials=20)\n",
    "print(\"Best score dry:\", study_dry.best_value)\n",
    "print(\"Best hyperparameters dry:\", study_dry.best_params)"
   ]
  },
  {
   "cell_type": "markdown",
   "id": "47ebe008",
   "metadata": {},
   "source": [
    " Best hyperparameters dry: {'max_depth': 9, 'num_leaves': 256, 'min_data_in_leaf': 30, 'learning_rate': 0.06662450903474555} n = 650<br>\n",
    " Best hyperparameters wet: {'max_depth': 13, 'num_leaves': 4096, 'min_data_in_leaf': 490, 'learning_rate': 0.09535783178069156} n=2900"
   ]
  },
  {
   "cell_type": "code",
   "execution_count": 35,
   "id": "376335fb",
   "metadata": {},
   "outputs": [
    {
     "name": "stderr",
     "output_type": "stream",
     "text": [
      "C:\\Users\\Çağan\\AppData\\Local\\Packages\\PythonSoftwareFoundation.Python.3.12_qbz5n2kfra8p0\\LocalCache\\local-packages\\Python312\\site-packages\\sklearn\\compose\\_column_transformer.py:1667: FutureWarning: \n",
      "The format of the columns of the 'remainder' transformer in ColumnTransformer.transformers_ will change in version 1.7 to match the format of the other transformers.\n",
      "At the moment the remainder columns are stored as indices (of type int). With the same ColumnTransformer configuration, in the future they will be stored as column names (of type str).\n",
      "To use the new behavior now and suppress this warning, use ColumnTransformer(force_int_remainder_cols=False).\n",
      "\n",
      "  warnings.warn(\n"
     ]
    },
    {
     "data": {
      "text/html": [
       "<style>#sk-container-id-8 {\n",
       "  /* Definition of color scheme common for light and dark mode */\n",
       "  --sklearn-color-text: #000;\n",
       "  --sklearn-color-text-muted: #666;\n",
       "  --sklearn-color-line: gray;\n",
       "  /* Definition of color scheme for unfitted estimators */\n",
       "  --sklearn-color-unfitted-level-0: #fff5e6;\n",
       "  --sklearn-color-unfitted-level-1: #f6e4d2;\n",
       "  --sklearn-color-unfitted-level-2: #ffe0b3;\n",
       "  --sklearn-color-unfitted-level-3: chocolate;\n",
       "  /* Definition of color scheme for fitted estimators */\n",
       "  --sklearn-color-fitted-level-0: #f0f8ff;\n",
       "  --sklearn-color-fitted-level-1: #d4ebff;\n",
       "  --sklearn-color-fitted-level-2: #b3dbfd;\n",
       "  --sklearn-color-fitted-level-3: cornflowerblue;\n",
       "\n",
       "  /* Specific color for light theme */\n",
       "  --sklearn-color-text-on-default-background: var(--sg-text-color, var(--theme-code-foreground, var(--jp-content-font-color1, black)));\n",
       "  --sklearn-color-background: var(--sg-background-color, var(--theme-background, var(--jp-layout-color0, white)));\n",
       "  --sklearn-color-border-box: var(--sg-text-color, var(--theme-code-foreground, var(--jp-content-font-color1, black)));\n",
       "  --sklearn-color-icon: #696969;\n",
       "\n",
       "  @media (prefers-color-scheme: dark) {\n",
       "    /* Redefinition of color scheme for dark theme */\n",
       "    --sklearn-color-text-on-default-background: var(--sg-text-color, var(--theme-code-foreground, var(--jp-content-font-color1, white)));\n",
       "    --sklearn-color-background: var(--sg-background-color, var(--theme-background, var(--jp-layout-color0, #111)));\n",
       "    --sklearn-color-border-box: var(--sg-text-color, var(--theme-code-foreground, var(--jp-content-font-color1, white)));\n",
       "    --sklearn-color-icon: #878787;\n",
       "  }\n",
       "}\n",
       "\n",
       "#sk-container-id-8 {\n",
       "  color: var(--sklearn-color-text);\n",
       "}\n",
       "\n",
       "#sk-container-id-8 pre {\n",
       "  padding: 0;\n",
       "}\n",
       "\n",
       "#sk-container-id-8 input.sk-hidden--visually {\n",
       "  border: 0;\n",
       "  clip: rect(1px 1px 1px 1px);\n",
       "  clip: rect(1px, 1px, 1px, 1px);\n",
       "  height: 1px;\n",
       "  margin: -1px;\n",
       "  overflow: hidden;\n",
       "  padding: 0;\n",
       "  position: absolute;\n",
       "  width: 1px;\n",
       "}\n",
       "\n",
       "#sk-container-id-8 div.sk-dashed-wrapped {\n",
       "  border: 1px dashed var(--sklearn-color-line);\n",
       "  margin: 0 0.4em 0.5em 0.4em;\n",
       "  box-sizing: border-box;\n",
       "  padding-bottom: 0.4em;\n",
       "  background-color: var(--sklearn-color-background);\n",
       "}\n",
       "\n",
       "#sk-container-id-8 div.sk-container {\n",
       "  /* jupyter's `normalize.less` sets `[hidden] { display: none; }`\n",
       "     but bootstrap.min.css set `[hidden] { display: none !important; }`\n",
       "     so we also need the `!important` here to be able to override the\n",
       "     default hidden behavior on the sphinx rendered scikit-learn.org.\n",
       "     See: https://github.com/scikit-learn/scikit-learn/issues/21755 */\n",
       "  display: inline-block !important;\n",
       "  position: relative;\n",
       "}\n",
       "\n",
       "#sk-container-id-8 div.sk-text-repr-fallback {\n",
       "  display: none;\n",
       "}\n",
       "\n",
       "div.sk-parallel-item,\n",
       "div.sk-serial,\n",
       "div.sk-item {\n",
       "  /* draw centered vertical line to link estimators */\n",
       "  background-image: linear-gradient(var(--sklearn-color-text-on-default-background), var(--sklearn-color-text-on-default-background));\n",
       "  background-size: 2px 100%;\n",
       "  background-repeat: no-repeat;\n",
       "  background-position: center center;\n",
       "}\n",
       "\n",
       "/* Parallel-specific style estimator block */\n",
       "\n",
       "#sk-container-id-8 div.sk-parallel-item::after {\n",
       "  content: \"\";\n",
       "  width: 100%;\n",
       "  border-bottom: 2px solid var(--sklearn-color-text-on-default-background);\n",
       "  flex-grow: 1;\n",
       "}\n",
       "\n",
       "#sk-container-id-8 div.sk-parallel {\n",
       "  display: flex;\n",
       "  align-items: stretch;\n",
       "  justify-content: center;\n",
       "  background-color: var(--sklearn-color-background);\n",
       "  position: relative;\n",
       "}\n",
       "\n",
       "#sk-container-id-8 div.sk-parallel-item {\n",
       "  display: flex;\n",
       "  flex-direction: column;\n",
       "}\n",
       "\n",
       "#sk-container-id-8 div.sk-parallel-item:first-child::after {\n",
       "  align-self: flex-end;\n",
       "  width: 50%;\n",
       "}\n",
       "\n",
       "#sk-container-id-8 div.sk-parallel-item:last-child::after {\n",
       "  align-self: flex-start;\n",
       "  width: 50%;\n",
       "}\n",
       "\n",
       "#sk-container-id-8 div.sk-parallel-item:only-child::after {\n",
       "  width: 0;\n",
       "}\n",
       "\n",
       "/* Serial-specific style estimator block */\n",
       "\n",
       "#sk-container-id-8 div.sk-serial {\n",
       "  display: flex;\n",
       "  flex-direction: column;\n",
       "  align-items: center;\n",
       "  background-color: var(--sklearn-color-background);\n",
       "  padding-right: 1em;\n",
       "  padding-left: 1em;\n",
       "}\n",
       "\n",
       "\n",
       "/* Toggleable style: style used for estimator/Pipeline/ColumnTransformer box that is\n",
       "clickable and can be expanded/collapsed.\n",
       "- Pipeline and ColumnTransformer use this feature and define the default style\n",
       "- Estimators will overwrite some part of the style using the `sk-estimator` class\n",
       "*/\n",
       "\n",
       "/* Pipeline and ColumnTransformer style (default) */\n",
       "\n",
       "#sk-container-id-8 div.sk-toggleable {\n",
       "  /* Default theme specific background. It is overwritten whether we have a\n",
       "  specific estimator or a Pipeline/ColumnTransformer */\n",
       "  background-color: var(--sklearn-color-background);\n",
       "}\n",
       "\n",
       "/* Toggleable label */\n",
       "#sk-container-id-8 label.sk-toggleable__label {\n",
       "  cursor: pointer;\n",
       "  display: flex;\n",
       "  width: 100%;\n",
       "  margin-bottom: 0;\n",
       "  padding: 0.5em;\n",
       "  box-sizing: border-box;\n",
       "  text-align: center;\n",
       "  align-items: start;\n",
       "  justify-content: space-between;\n",
       "  gap: 0.5em;\n",
       "}\n",
       "\n",
       "#sk-container-id-8 label.sk-toggleable__label .caption {\n",
       "  font-size: 0.6rem;\n",
       "  font-weight: lighter;\n",
       "  color: var(--sklearn-color-text-muted);\n",
       "}\n",
       "\n",
       "#sk-container-id-8 label.sk-toggleable__label-arrow:before {\n",
       "  /* Arrow on the left of the label */\n",
       "  content: \"▸\";\n",
       "  float: left;\n",
       "  margin-right: 0.25em;\n",
       "  color: var(--sklearn-color-icon);\n",
       "}\n",
       "\n",
       "#sk-container-id-8 label.sk-toggleable__label-arrow:hover:before {\n",
       "  color: var(--sklearn-color-text);\n",
       "}\n",
       "\n",
       "/* Toggleable content - dropdown */\n",
       "\n",
       "#sk-container-id-8 div.sk-toggleable__content {\n",
       "  max-height: 0;\n",
       "  max-width: 0;\n",
       "  overflow: hidden;\n",
       "  text-align: left;\n",
       "  /* unfitted */\n",
       "  background-color: var(--sklearn-color-unfitted-level-0);\n",
       "}\n",
       "\n",
       "#sk-container-id-8 div.sk-toggleable__content.fitted {\n",
       "  /* fitted */\n",
       "  background-color: var(--sklearn-color-fitted-level-0);\n",
       "}\n",
       "\n",
       "#sk-container-id-8 div.sk-toggleable__content pre {\n",
       "  margin: 0.2em;\n",
       "  border-radius: 0.25em;\n",
       "  color: var(--sklearn-color-text);\n",
       "  /* unfitted */\n",
       "  background-color: var(--sklearn-color-unfitted-level-0);\n",
       "}\n",
       "\n",
       "#sk-container-id-8 div.sk-toggleable__content.fitted pre {\n",
       "  /* unfitted */\n",
       "  background-color: var(--sklearn-color-fitted-level-0);\n",
       "}\n",
       "\n",
       "#sk-container-id-8 input.sk-toggleable__control:checked~div.sk-toggleable__content {\n",
       "  /* Expand drop-down */\n",
       "  max-height: 200px;\n",
       "  max-width: 100%;\n",
       "  overflow: auto;\n",
       "}\n",
       "\n",
       "#sk-container-id-8 input.sk-toggleable__control:checked~label.sk-toggleable__label-arrow:before {\n",
       "  content: \"▾\";\n",
       "}\n",
       "\n",
       "/* Pipeline/ColumnTransformer-specific style */\n",
       "\n",
       "#sk-container-id-8 div.sk-label input.sk-toggleable__control:checked~label.sk-toggleable__label {\n",
       "  color: var(--sklearn-color-text);\n",
       "  background-color: var(--sklearn-color-unfitted-level-2);\n",
       "}\n",
       "\n",
       "#sk-container-id-8 div.sk-label.fitted input.sk-toggleable__control:checked~label.sk-toggleable__label {\n",
       "  background-color: var(--sklearn-color-fitted-level-2);\n",
       "}\n",
       "\n",
       "/* Estimator-specific style */\n",
       "\n",
       "/* Colorize estimator box */\n",
       "#sk-container-id-8 div.sk-estimator input.sk-toggleable__control:checked~label.sk-toggleable__label {\n",
       "  /* unfitted */\n",
       "  background-color: var(--sklearn-color-unfitted-level-2);\n",
       "}\n",
       "\n",
       "#sk-container-id-8 div.sk-estimator.fitted input.sk-toggleable__control:checked~label.sk-toggleable__label {\n",
       "  /* fitted */\n",
       "  background-color: var(--sklearn-color-fitted-level-2);\n",
       "}\n",
       "\n",
       "#sk-container-id-8 div.sk-label label.sk-toggleable__label,\n",
       "#sk-container-id-8 div.sk-label label {\n",
       "  /* The background is the default theme color */\n",
       "  color: var(--sklearn-color-text-on-default-background);\n",
       "}\n",
       "\n",
       "/* On hover, darken the color of the background */\n",
       "#sk-container-id-8 div.sk-label:hover label.sk-toggleable__label {\n",
       "  color: var(--sklearn-color-text);\n",
       "  background-color: var(--sklearn-color-unfitted-level-2);\n",
       "}\n",
       "\n",
       "/* Label box, darken color on hover, fitted */\n",
       "#sk-container-id-8 div.sk-label.fitted:hover label.sk-toggleable__label.fitted {\n",
       "  color: var(--sklearn-color-text);\n",
       "  background-color: var(--sklearn-color-fitted-level-2);\n",
       "}\n",
       "\n",
       "/* Estimator label */\n",
       "\n",
       "#sk-container-id-8 div.sk-label label {\n",
       "  font-family: monospace;\n",
       "  font-weight: bold;\n",
       "  display: inline-block;\n",
       "  line-height: 1.2em;\n",
       "}\n",
       "\n",
       "#sk-container-id-8 div.sk-label-container {\n",
       "  text-align: center;\n",
       "}\n",
       "\n",
       "/* Estimator-specific */\n",
       "#sk-container-id-8 div.sk-estimator {\n",
       "  font-family: monospace;\n",
       "  border: 1px dotted var(--sklearn-color-border-box);\n",
       "  border-radius: 0.25em;\n",
       "  box-sizing: border-box;\n",
       "  margin-bottom: 0.5em;\n",
       "  /* unfitted */\n",
       "  background-color: var(--sklearn-color-unfitted-level-0);\n",
       "}\n",
       "\n",
       "#sk-container-id-8 div.sk-estimator.fitted {\n",
       "  /* fitted */\n",
       "  background-color: var(--sklearn-color-fitted-level-0);\n",
       "}\n",
       "\n",
       "/* on hover */\n",
       "#sk-container-id-8 div.sk-estimator:hover {\n",
       "  /* unfitted */\n",
       "  background-color: var(--sklearn-color-unfitted-level-2);\n",
       "}\n",
       "\n",
       "#sk-container-id-8 div.sk-estimator.fitted:hover {\n",
       "  /* fitted */\n",
       "  background-color: var(--sklearn-color-fitted-level-2);\n",
       "}\n",
       "\n",
       "/* Specification for estimator info (e.g. \"i\" and \"?\") */\n",
       "\n",
       "/* Common style for \"i\" and \"?\" */\n",
       "\n",
       ".sk-estimator-doc-link,\n",
       "a:link.sk-estimator-doc-link,\n",
       "a:visited.sk-estimator-doc-link {\n",
       "  float: right;\n",
       "  font-size: smaller;\n",
       "  line-height: 1em;\n",
       "  font-family: monospace;\n",
       "  background-color: var(--sklearn-color-background);\n",
       "  border-radius: 1em;\n",
       "  height: 1em;\n",
       "  width: 1em;\n",
       "  text-decoration: none !important;\n",
       "  margin-left: 0.5em;\n",
       "  text-align: center;\n",
       "  /* unfitted */\n",
       "  border: var(--sklearn-color-unfitted-level-1) 1pt solid;\n",
       "  color: var(--sklearn-color-unfitted-level-1);\n",
       "}\n",
       "\n",
       ".sk-estimator-doc-link.fitted,\n",
       "a:link.sk-estimator-doc-link.fitted,\n",
       "a:visited.sk-estimator-doc-link.fitted {\n",
       "  /* fitted */\n",
       "  border: var(--sklearn-color-fitted-level-1) 1pt solid;\n",
       "  color: var(--sklearn-color-fitted-level-1);\n",
       "}\n",
       "\n",
       "/* On hover */\n",
       "div.sk-estimator:hover .sk-estimator-doc-link:hover,\n",
       ".sk-estimator-doc-link:hover,\n",
       "div.sk-label-container:hover .sk-estimator-doc-link:hover,\n",
       ".sk-estimator-doc-link:hover {\n",
       "  /* unfitted */\n",
       "  background-color: var(--sklearn-color-unfitted-level-3);\n",
       "  color: var(--sklearn-color-background);\n",
       "  text-decoration: none;\n",
       "}\n",
       "\n",
       "div.sk-estimator.fitted:hover .sk-estimator-doc-link.fitted:hover,\n",
       ".sk-estimator-doc-link.fitted:hover,\n",
       "div.sk-label-container:hover .sk-estimator-doc-link.fitted:hover,\n",
       ".sk-estimator-doc-link.fitted:hover {\n",
       "  /* fitted */\n",
       "  background-color: var(--sklearn-color-fitted-level-3);\n",
       "  color: var(--sklearn-color-background);\n",
       "  text-decoration: none;\n",
       "}\n",
       "\n",
       "/* Span, style for the box shown on hovering the info icon */\n",
       ".sk-estimator-doc-link span {\n",
       "  display: none;\n",
       "  z-index: 9999;\n",
       "  position: relative;\n",
       "  font-weight: normal;\n",
       "  right: .2ex;\n",
       "  padding: .5ex;\n",
       "  margin: .5ex;\n",
       "  width: min-content;\n",
       "  min-width: 20ex;\n",
       "  max-width: 50ex;\n",
       "  color: var(--sklearn-color-text);\n",
       "  box-shadow: 2pt 2pt 4pt #999;\n",
       "  /* unfitted */\n",
       "  background: var(--sklearn-color-unfitted-level-0);\n",
       "  border: .5pt solid var(--sklearn-color-unfitted-level-3);\n",
       "}\n",
       "\n",
       ".sk-estimator-doc-link.fitted span {\n",
       "  /* fitted */\n",
       "  background: var(--sklearn-color-fitted-level-0);\n",
       "  border: var(--sklearn-color-fitted-level-3);\n",
       "}\n",
       "\n",
       ".sk-estimator-doc-link:hover span {\n",
       "  display: block;\n",
       "}\n",
       "\n",
       "/* \"?\"-specific style due to the `<a>` HTML tag */\n",
       "\n",
       "#sk-container-id-8 a.estimator_doc_link {\n",
       "  float: right;\n",
       "  font-size: 1rem;\n",
       "  line-height: 1em;\n",
       "  font-family: monospace;\n",
       "  background-color: var(--sklearn-color-background);\n",
       "  border-radius: 1rem;\n",
       "  height: 1rem;\n",
       "  width: 1rem;\n",
       "  text-decoration: none;\n",
       "  /* unfitted */\n",
       "  color: var(--sklearn-color-unfitted-level-1);\n",
       "  border: var(--sklearn-color-unfitted-level-1) 1pt solid;\n",
       "}\n",
       "\n",
       "#sk-container-id-8 a.estimator_doc_link.fitted {\n",
       "  /* fitted */\n",
       "  border: var(--sklearn-color-fitted-level-1) 1pt solid;\n",
       "  color: var(--sklearn-color-fitted-level-1);\n",
       "}\n",
       "\n",
       "/* On hover */\n",
       "#sk-container-id-8 a.estimator_doc_link:hover {\n",
       "  /* unfitted */\n",
       "  background-color: var(--sklearn-color-unfitted-level-3);\n",
       "  color: var(--sklearn-color-background);\n",
       "  text-decoration: none;\n",
       "}\n",
       "\n",
       "#sk-container-id-8 a.estimator_doc_link.fitted:hover {\n",
       "  /* fitted */\n",
       "  background-color: var(--sklearn-color-fitted-level-3);\n",
       "}\n",
       "</style><div id=\"sk-container-id-8\" class=\"sk-top-container\"><div class=\"sk-text-repr-fallback\"><pre>Pipeline(steps=[(&#x27;preprocessor&#x27;,\n",
       "                 ColumnTransformer(remainder=&#x27;passthrough&#x27;,\n",
       "                                   transformers=[(&#x27;scaler&#x27;, StandardScaler(),\n",
       "                                                  [&#x27;AvgCornerSpeed&#x27;,\n",
       "                                                   &#x27;Acceleration&#x27;, &#x27;LapNumber&#x27;,\n",
       "                                                   &#x27;Stint&#x27;, &#x27;TyreLife&#x27;,\n",
       "                                                   &#x27;AirTemp&#x27;, &#x27;Humidity&#x27;,\n",
       "                                                   &#x27;Pressure&#x27;, &#x27;TrackTemp&#x27;,\n",
       "                                                   &#x27;WindSpeed&#x27;, &#x27;AvgCurvature&#x27;,\n",
       "                                                   &#x27;SpL&#x27;, &#x27;CornerForce&#x27;,\n",
       "                                                   &#x27;AvgCurvatureDiff&#x27;,\n",
       "                                                   &#x27;TempRatio&#x27;])])),\n",
       "                (&#x27;lgbm&#x27;,\n",
       "                 LGBMRegressor(learning_rate=0.066, max_depth=9, metric=&#x27;rmse&#x27;,\n",
       "                               min_data_in_leaf=30, n_estimators=650,\n",
       "                               num_leaves=256, random_state=253))])</pre><b>In a Jupyter environment, please rerun this cell to show the HTML representation or trust the notebook. <br />On GitHub, the HTML representation is unable to render, please try loading this page with nbviewer.org.</b></div><div class=\"sk-container\" hidden><div class=\"sk-item sk-dashed-wrapped\"><div class=\"sk-label-container\"><div class=\"sk-label fitted sk-toggleable\"><input class=\"sk-toggleable__control sk-hidden--visually\" id=\"sk-estimator-id-50\" type=\"checkbox\" ><label for=\"sk-estimator-id-50\" class=\"sk-toggleable__label fitted sk-toggleable__label-arrow\"><div><div>Pipeline</div></div><div><a class=\"sk-estimator-doc-link fitted\" rel=\"noreferrer\" target=\"_blank\" href=\"https://scikit-learn.org/1.6/modules/generated/sklearn.pipeline.Pipeline.html\">?<span>Documentation for Pipeline</span></a><span class=\"sk-estimator-doc-link fitted\">i<span>Fitted</span></span></div></label><div class=\"sk-toggleable__content fitted\"><pre>Pipeline(steps=[(&#x27;preprocessor&#x27;,\n",
       "                 ColumnTransformer(remainder=&#x27;passthrough&#x27;,\n",
       "                                   transformers=[(&#x27;scaler&#x27;, StandardScaler(),\n",
       "                                                  [&#x27;AvgCornerSpeed&#x27;,\n",
       "                                                   &#x27;Acceleration&#x27;, &#x27;LapNumber&#x27;,\n",
       "                                                   &#x27;Stint&#x27;, &#x27;TyreLife&#x27;,\n",
       "                                                   &#x27;AirTemp&#x27;, &#x27;Humidity&#x27;,\n",
       "                                                   &#x27;Pressure&#x27;, &#x27;TrackTemp&#x27;,\n",
       "                                                   &#x27;WindSpeed&#x27;, &#x27;AvgCurvature&#x27;,\n",
       "                                                   &#x27;SpL&#x27;, &#x27;CornerForce&#x27;,\n",
       "                                                   &#x27;AvgCurvatureDiff&#x27;,\n",
       "                                                   &#x27;TempRatio&#x27;])])),\n",
       "                (&#x27;lgbm&#x27;,\n",
       "                 LGBMRegressor(learning_rate=0.066, max_depth=9, metric=&#x27;rmse&#x27;,\n",
       "                               min_data_in_leaf=30, n_estimators=650,\n",
       "                               num_leaves=256, random_state=253))])</pre></div> </div></div><div class=\"sk-serial\"><div class=\"sk-item sk-dashed-wrapped\"><div class=\"sk-label-container\"><div class=\"sk-label fitted sk-toggleable\"><input class=\"sk-toggleable__control sk-hidden--visually\" id=\"sk-estimator-id-51\" type=\"checkbox\" ><label for=\"sk-estimator-id-51\" class=\"sk-toggleable__label fitted sk-toggleable__label-arrow\"><div><div>preprocessor: ColumnTransformer</div></div><div><a class=\"sk-estimator-doc-link fitted\" rel=\"noreferrer\" target=\"_blank\" href=\"https://scikit-learn.org/1.6/modules/generated/sklearn.compose.ColumnTransformer.html\">?<span>Documentation for preprocessor: ColumnTransformer</span></a></div></label><div class=\"sk-toggleable__content fitted\"><pre>ColumnTransformer(remainder=&#x27;passthrough&#x27;,\n",
       "                  transformers=[(&#x27;scaler&#x27;, StandardScaler(),\n",
       "                                 [&#x27;AvgCornerSpeed&#x27;, &#x27;Acceleration&#x27;, &#x27;LapNumber&#x27;,\n",
       "                                  &#x27;Stint&#x27;, &#x27;TyreLife&#x27;, &#x27;AirTemp&#x27;, &#x27;Humidity&#x27;,\n",
       "                                  &#x27;Pressure&#x27;, &#x27;TrackTemp&#x27;, &#x27;WindSpeed&#x27;,\n",
       "                                  &#x27;AvgCurvature&#x27;, &#x27;SpL&#x27;, &#x27;CornerForce&#x27;,\n",
       "                                  &#x27;AvgCurvatureDiff&#x27;, &#x27;TempRatio&#x27;])])</pre></div> </div></div><div class=\"sk-parallel\"><div class=\"sk-parallel-item\"><div class=\"sk-item\"><div class=\"sk-label-container\"><div class=\"sk-label fitted sk-toggleable\"><input class=\"sk-toggleable__control sk-hidden--visually\" id=\"sk-estimator-id-52\" type=\"checkbox\" ><label for=\"sk-estimator-id-52\" class=\"sk-toggleable__label fitted sk-toggleable__label-arrow\"><div><div>scaler</div></div></label><div class=\"sk-toggleable__content fitted\"><pre>[&#x27;AvgCornerSpeed&#x27;, &#x27;Acceleration&#x27;, &#x27;LapNumber&#x27;, &#x27;Stint&#x27;, &#x27;TyreLife&#x27;, &#x27;AirTemp&#x27;, &#x27;Humidity&#x27;, &#x27;Pressure&#x27;, &#x27;TrackTemp&#x27;, &#x27;WindSpeed&#x27;, &#x27;AvgCurvature&#x27;, &#x27;SpL&#x27;, &#x27;CornerForce&#x27;, &#x27;AvgCurvatureDiff&#x27;, &#x27;TempRatio&#x27;]</pre></div> </div></div><div class=\"sk-serial\"><div class=\"sk-item\"><div class=\"sk-estimator fitted sk-toggleable\"><input class=\"sk-toggleable__control sk-hidden--visually\" id=\"sk-estimator-id-53\" type=\"checkbox\" ><label for=\"sk-estimator-id-53\" class=\"sk-toggleable__label fitted sk-toggleable__label-arrow\"><div><div>StandardScaler</div></div><div><a class=\"sk-estimator-doc-link fitted\" rel=\"noreferrer\" target=\"_blank\" href=\"https://scikit-learn.org/1.6/modules/generated/sklearn.preprocessing.StandardScaler.html\">?<span>Documentation for StandardScaler</span></a></div></label><div class=\"sk-toggleable__content fitted\"><pre>StandardScaler()</pre></div> </div></div></div></div></div><div class=\"sk-parallel-item\"><div class=\"sk-item\"><div class=\"sk-label-container\"><div class=\"sk-label fitted sk-toggleable\"><input class=\"sk-toggleable__control sk-hidden--visually\" id=\"sk-estimator-id-54\" type=\"checkbox\" ><label for=\"sk-estimator-id-54\" class=\"sk-toggleable__label fitted sk-toggleable__label-arrow\"><div><div>remainder</div></div></label><div class=\"sk-toggleable__content fitted\"><pre>[&#x27;Compound_HARD&#x27;, &#x27;Compound_MEDIUM&#x27;, &#x27;Compound_SOFT&#x27;]</pre></div> </div></div><div class=\"sk-serial\"><div class=\"sk-item\"><div class=\"sk-estimator fitted sk-toggleable\"><input class=\"sk-toggleable__control sk-hidden--visually\" id=\"sk-estimator-id-55\" type=\"checkbox\" ><label for=\"sk-estimator-id-55\" class=\"sk-toggleable__label fitted sk-toggleable__label-arrow\"><div><div>passthrough</div></div></label><div class=\"sk-toggleable__content fitted\"><pre>passthrough</pre></div> </div></div></div></div></div></div></div><div class=\"sk-item\"><div class=\"sk-estimator fitted sk-toggleable\"><input class=\"sk-toggleable__control sk-hidden--visually\" id=\"sk-estimator-id-56\" type=\"checkbox\" ><label for=\"sk-estimator-id-56\" class=\"sk-toggleable__label fitted sk-toggleable__label-arrow\"><div><div>LGBMRegressor</div></div></label><div class=\"sk-toggleable__content fitted\"><pre>LGBMRegressor(learning_rate=0.066, max_depth=9, metric=&#x27;rmse&#x27;,\n",
       "              min_data_in_leaf=30, n_estimators=650, num_leaves=256,\n",
       "              random_state=253)</pre></div> </div></div></div></div></div></div>"
      ],
      "text/plain": [
       "Pipeline(steps=[('preprocessor',\n",
       "                 ColumnTransformer(remainder='passthrough',\n",
       "                                   transformers=[('scaler', StandardScaler(),\n",
       "                                                  ['AvgCornerSpeed',\n",
       "                                                   'Acceleration', 'LapNumber',\n",
       "                                                   'Stint', 'TyreLife',\n",
       "                                                   'AirTemp', 'Humidity',\n",
       "                                                   'Pressure', 'TrackTemp',\n",
       "                                                   'WindSpeed', 'AvgCurvature',\n",
       "                                                   'SpL', 'CornerForce',\n",
       "                                                   'AvgCurvatureDiff',\n",
       "                                                   'TempRatio'])])),\n",
       "                ('lgbm',\n",
       "                 LGBMRegressor(learning_rate=0.066, max_depth=9, metric='rmse',\n",
       "                               min_data_in_leaf=30, n_estimators=650,\n",
       "                               num_leaves=256, random_state=253))])"
      ]
     },
     "execution_count": 35,
     "metadata": {},
     "output_type": "execute_result"
    }
   ],
   "source": [
    "#After CV\n",
    "\n",
    "pipeline_dry = make_pipeline(\n",
    "    n_est=650,\n",
    "    max_depth=9,\n",
    "    random_state=253,\n",
    "    num_leaves=256,\n",
    "    learning_rate=0.066,\n",
    "    min_data_in_leaf=30\n",
    ")\n",
    "\n",
    "pipeline_wet = make_pipeline(\n",
    "    n_est=2900,\n",
    "    max_depth=13,\n",
    "    random_state=9876,\n",
    "    num_leaves=4096,\n",
    "    learning_rate=0.095,\n",
    "    min_data_in_leaf=490\n",
    ")\n",
    "\n",
    "pipeline_wet.fit(X_wet_train, y_wet_train, lgbm__feature_name=list(X_wet.columns))\n",
    "pipeline_dry.fit(X_dry_train, y_dry_train, lgbm__feature_name=list(X_dry.columns))"
   ]
  },
  {
   "cell_type": "code",
   "execution_count": 36,
   "id": "f02b7dc5",
   "metadata": {},
   "outputs": [
    {
     "name": "stdout",
     "output_type": "stream",
     "text": [
      "Dry RMSE: 0.8935428000714795, R2: 0.7545032523483601\n",
      "Wet RMSE: 1.5199029371683408, R2: 0.9171958644479387\n"
     ]
    },
    {
     "name": "stderr",
     "output_type": "stream",
     "text": [
      "C:\\Users\\Çağan\\AppData\\Local\\Packages\\PythonSoftwareFoundation.Python.3.12_qbz5n2kfra8p0\\LocalCache\\local-packages\\Python312\\site-packages\\sklearn\\utils\\validation.py:2739: UserWarning: X does not have valid feature names, but LGBMRegressor was fitted with feature names\n",
      "  warnings.warn(\n",
      "C:\\Users\\Çağan\\AppData\\Local\\Packages\\PythonSoftwareFoundation.Python.3.12_qbz5n2kfra8p0\\LocalCache\\local-packages\\Python312\\site-packages\\sklearn\\utils\\validation.py:2739: UserWarning: X does not have valid feature names, but LGBMRegressor was fitted with feature names\n",
      "  warnings.warn(\n"
     ]
    }
   ],
   "source": [
    "#Calculate RMSE and R2 for dry\n",
    "y_pred_dry = pipeline_dry.predict(X_dry_test)\n",
    "y_pred_wet = pipeline_wet.predict(X_wet_test)\n",
    "rmse_dry = root_mean_squared_error(y_dry_test, y_pred_dry)\n",
    "rmse_wet = root_mean_squared_error(y_wet_test, y_pred_wet)\n",
    "r2_dry = r2_score(y_dry_test, y_pred_dry)\n",
    "r2_wet = r2_score(y_wet_test, y_pred_wet)\n",
    "print(f\"Dry RMSE: {rmse_dry}, R2: {r2_dry}\")\n",
    "print(f\"Wet RMSE: {rmse_wet}, R2: {r2_wet}\")"
   ]
  },
  {
   "cell_type": "code",
   "execution_count": 37,
   "id": "90b34ed2",
   "metadata": {},
   "outputs": [
    {
     "data": {
      "image/png": "[encoded data removed]",
      "text/plain": [
       "<Figure size 1000x600 with 1 Axes>"
      ]
     },
     "metadata": {},
     "output_type": "display_data"
    },
    {
     "data": {
      "image/png": "[encoded data removed]",
      "text/plain": [
       "<Figure size 1000x600 with 1 Axes>"
      ]
     },
     "metadata": {},
     "output_type": "display_data"
    }
   ],
   "source": [
    "# Plot feature importances\n",
    "def plot_feature_importances(model, title):\n",
    "    feature_importances = model.named_steps['lgbm'].feature_importances_\n",
    "    feature_names = model.named_steps['lgbm'].feature_name_\n",
    "    indices = np.argsort(feature_importances)[::-1]\n",
    "\n",
    "    plt.figure(figsize=(10, 6))\n",
    "    plt.title(title)\n",
    "    plt.bar(range(len(feature_importances)), feature_importances[indices], align='center')\n",
    "    plt.xticks(range(len(feature_importances)), np.array(feature_names)[indices], rotation=90)\n",
    "    plt.xlabel('Features')\n",
    "    plt.ylabel('Importance')\n",
    "    plt.tight_layout()\n",
    "    plt.show()\n",
    "plot_feature_importances(pipeline_dry, \"Dry Feature Importances\")\n",
    "plot_feature_importances(pipeline_wet, \"Wet Feature Importances\")"
   ]
  }
 ],
 "metadata": {
  "kernelspec": {
   "display_name": "Python 3 (ipykernel)",
   "language": "python",
   "name": "python3"
  },
  "language_info": {
   "codemirror_mode": {
    "name": "ipython",
    "version": 3
   },
   "file_extension": ".py",
   "mimetype": "text/x-python",
   "name": "python",
   "nbconvert_exporter": "python",
   "pygments_lexer": "ipython3",
   "version": "3.12.10"
  }
 },
 "nbformat": 4,
 "nbformat_minor": 5
}
