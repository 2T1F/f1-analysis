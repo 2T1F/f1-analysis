{
 "cells": [
  {
   "cell_type": "code",
   "execution_count": null,
   "id": "e8065e97-c1b9-4667-b5f8-a426657520f9",
   "metadata": {},
   "outputs": [],
   "source": [
    "import pandas as pd\n",
    "from sklearn.model_selection import train_test_split\n",
    "from sklearn.compose import ColumnTransformer\n",
    "from sklearn.pipeline import Pipeline\n",
    "from sklearn.preprocessing import StandardScaler\n",
    "from sklearn.metrics import root_mean_squared_error\n",
    "import matplotlib.pyplot as plt\n",
    "from pygam import LinearGAM, s, f\n",
    "from gam_reg import GAMRegressor\n",
    "import numpy as np\n",
    "\n",
    "df = pd.read_csv(\"./correlation-data/r22-24_processed.csv\")\n",
    "df[\"LapTime\"] = df[\"LapTime\"] - df[\"racemean\"]\n",
    "df = df.drop(columns=[\"racemean\", \"SpL\", \"CornerForce\", \"TempRatio\"])\n",
    "df_dry = df[df[\"Rainfall\"] == 0.0]\n",
    "df_dry = df_dry.drop(columns=[\"Rainfall\"])\n",
    "X_dry = df_dry.drop(columns=['LapTime'])\n",
    "y_dry = df_dry['LapTime']\n",
    "df_wet = df[df[\"Rainfall\"] == 1.0]\n",
    "df_wet = df_wet.drop(columns=[\"Rainfall\"])\n",
    "X_wet = df_wet.drop(columns=['LapTime'])\n",
    "y_wet = df_wet['LapTime']\n",
    "df = df.drop(columns=[\"Rainfall\"])\n",
    "\n",
    "X = df.drop(columns=['LapTime'])\n",
    "y = df['LapTime']\n",
    "\n",
    "categorical_feats = ['Compound', \"Rainfall\"]\n",
    "categorical_feats = [c for c in X.columns if c.startswith(tuple(categorical_feats))]\n",
    "numerical_features = [c for c in X.columns if not c.startswith(tuple(categorical_feats))]\n",
    "\n",
    "# preprocessor_dry = ColumnTransformer(transformers=[\n",
    "#     (\"scaler\", StandardScaler(), numerical_features),\n",
    "# ],remainder='passthrough')\n",
    "\n",
    "def make_preprocessor(num_feats : list[str]):\n",
    "    preprocessor = ColumnTransformer(\n",
    "        transformers=[\n",
    "            (\"scaler\", StandardScaler(), num_feats),\n",
    "        ],\n",
    "        remainder='passthrough'\n",
    "    )\n",
    "    return preprocessor\n",
    "\n",
    "def create_gam_pipeline(all_feats : list[str], numerical_feats : list[str]):\n",
    "    prep = make_preprocessor(numerical_feats)\n",
    "    num_feat_set = set(numerical_feats)\n",
    "    terms = None\n",
    "    for i in range(len(all_feats)):\n",
    "        feat = all_feats[i]\n",
    "        if terms is None:\n",
    "            terms = s(i)\n",
    "        else:\n",
    "            terms += s(i)\n",
    "    gam = GAMRegressor(terms=terms,lam=np.linspace(0.001, 0.01, 20))\n",
    "    pipeline = Pipeline(steps=[\n",
    "        (\"preprocessor\", prep),\n",
    "        (\"gam\", gam)\n",
    "    ])\n",
    "    return pipeline"
   ]
  },
  {
   "cell_type": "code",
   "execution_count": 2,
   "id": "97860c06-4181-4b7e-b0be-d45b320f101e",
   "metadata": {},
   "outputs": [],
   "source": [
    "X_dry_train, X_dry_test, y_dry_train, y_dry_test = train_test_split(X_dry, y_dry, test_size=0.2, random_state=57372)\n",
    "X_wet_train, X_wet_test, y_wet_train, y_wet_test = train_test_split(X_wet, y_wet, test_size=0.2, random_state=235246245)"
   ]
  },
  {
   "cell_type": "code",
   "execution_count": 4,
   "id": "50347834",
   "metadata": {},
   "outputs": [
    {
     "name": "stderr",
     "output_type": "stream",
     "text": [
      "\u001b[38;2;0;255;0m100%\u001b[39m \u001b[38;2;0;255;0m(20 of 20)\u001b[39m |########################| Elapsed Time: 0:02:04 Time:  0:02:040611\n"
     ]
    }
   ],
   "source": [
    "dry_pipeline = create_gam_pipeline(X_dry.columns, numerical_features)\n",
    "wet_pipeline = create_gam_pipeline(X_wet.columns, numerical_features)\n",
    "dry_pipeline.fit(X_dry_train, y_dry_train)\n",
    "\n",
    "dry_gam = dry_pipeline.named_steps['gam'].gam_"
   ]
  },
  {
   "cell_type": "code",
   "execution_count": 5,
   "id": "9d427b20",
   "metadata": {},
   "outputs": [
    {
     "name": "stdout",
     "output_type": "stream",
     "text": [
      "LinearGAM                                                                                                 \n",
      "=============================================== ==========================================================\n",
      "Distribution:                        NormalDist Effective DoF:                                    241.0876\n",
      "Link Function:                     IdentityLink Log Likelihood:                                -70682.2223\n",
      "Number of Samples:                        42911 AIC:                                           141848.6199\n",
      "                                                AICc:                                          141851.3783\n",
      "                                                GCV:                                                1.4957\n",
      "                                                Scale:                                              1.4806\n",
      "                                                Pseudo R-Squared:                                   0.4764\n",
      "==========================================================================================================\n",
      "Feature Function                  Lambda               Rank         EDoF         P > x        Sig. Code   \n",
      "================================= ==================== ============ ============ ============ ============\n",
      "s(0)                              [0.0043]             20           13.6         1.11e-16     ***         \n",
      "s(1)                              [0.0043]             20           16.9         1.22e-15     ***         \n",
      "s(2)                              [0.0043]             20           19.0         1.11e-16     ***         \n",
      "s(3)                              [0.0043]             20           5.1          1.11e-16     ***         \n",
      "s(4)                              [0.0043]             20           18.8         1.11e-16     ***         \n",
      "s(5)                              [0.0043]             20           18.9         1.11e-16     ***         \n",
      "s(6)                              [0.0043]             20           18.8         1.11e-16     ***         \n",
      "s(7)                              [0.0043]             20           12.0         1.11e-16     ***         \n",
      "s(8)                              [0.0043]             20           18.8         1.11e-16     ***         \n",
      "s(9)                              [0.0043]             20           18.6         2.34e-13     ***         \n",
      "s(10)                             [0.0043]             20           15.3         1.83e-01                 \n",
      "s(11)                             [0.0043]             20           13.9         1.11e-16     ***         \n",
      "s(12)                             [0.0043]             20           18.7         1.11e-16     ***         \n",
      "s(13)                             [0.0043]             20           12.1         5.20e-01                 \n",
      "s(14)                             [0.0043]             20           17.8         1.11e-16     ***         \n",
      "s(15)                             [0.0043]             20           1.0          1.11e-16     ***         \n",
      "s(16)                             [0.0043]             20           1.0          1.11e-16     ***         \n",
      "s(17)                             [0.0043]             20           1.0          1.11e-16     ***         \n",
      "s(18)                             [0.0043]             20           0.0          1.11e-16     ***         \n",
      "s(19)                             [0.0043]             20           0.0          3.70e-09     ***         \n",
      "intercept                                              1            0.0          1.11e-16     ***         \n",
      "==========================================================================================================\n",
      "Significance codes:  0 '***' 0.001 '**' 0.01 '*' 0.05 '.' 0.1 ' ' 1\n",
      "\n",
      "WARNING: Fitting splines and a linear function to a feature introduces a model identifiability problem\n",
      "         which can cause p-values to appear significant when they are not.\n",
      "\n",
      "WARNING: p-values calculated in this manner behave correctly for un-penalized models or models with\n",
      "         known smoothing parameters, but when smoothing parameters have been estimated, the p-values\n",
      "         are typically lower than they should be, meaning that the tests reject the null too readily.\n"
     ]
    },
    {
     "name": "stderr",
     "output_type": "stream",
     "text": [
      "C:\\Users\\Çağan\\AppData\\Local\\Temp\\ipykernel_4668\\366913383.py:1: UserWarning: KNOWN BUG: p-values computed in this summary are likely much smaller than they should be. \n",
      " \n",
      "Please do not make inferences based on these values! \n",
      "\n",
      "Collaborate on a solution, and stay up to date at: \n",
      "github.com/dswah/pyGAM/issues/163 \n",
      "\n",
      "  dry_gam.summary()\n"
     ]
    }
   ],
   "source": [
    "dry_gam.summary()"
   ]
  },
  {
   "cell_type": "code",
   "execution_count": 6,
   "id": "b91f73c2",
   "metadata": {},
   "outputs": [
    {
     "name": "stdout",
     "output_type": "stream",
     "text": [
      "Dry GAM RMSE: 4.036027532028268\n"
     ]
    }
   ],
   "source": [
    "\n",
    "# Find RMSE\n",
    "score = root_mean_squared_error(y_dry_test, dry_pipeline.predict(X_dry_test))\n",
    "print(f\"Dry GAM RMSE: {score}\")"
   ]
  }
 ],
 "metadata": {
  "kernelspec": {
   "display_name": "Python 3 (ipykernel)",
   "language": "python",
   "name": "python3"
  },
  "language_info": {
   "codemirror_mode": {
    "name": "ipython",
    "version": 3
   },
   "file_extension": ".py",
   "mimetype": "text/x-python",
   "name": "python",
   "nbconvert_exporter": "python",
   "pygments_lexer": "ipython3",
   "version": "3.12.10"
  }
 },
 "nbformat": 4,
 "nbformat_minor": 5
}
